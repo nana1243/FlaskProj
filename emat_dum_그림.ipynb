{
 "cells": [
  {
   "cell_type": "code",
   "execution_count": 24,
   "metadata": {},
   "outputs": [],
   "source": [
    "import numpy as np\n",
    "import pandas as pd\n",
    "\n",
    "import os\n",
    "import urllib.parse as rep\n",
    "import urllib.request as req\n",
    "from fake_useragent import UserAgent\n",
    "\n",
    "import time\n",
    "\n",
    "# 이미지 다운\n",
    "# import urllib.request as req\n",
    "\n",
    "# 이미지 바이트 처리\n",
    "from io import BytesIO\n",
    "\n",
    "# 액셀 처리 임포트\n",
    "import xlsxwriter\n",
    "\n",
    "# bs4 임포트\n",
    "from bs4 import BeautifulSoup\n",
    "\n",
    "# selenium 임포트\n",
    "from selenium import webdriver\n",
    "from selenium.webdriver.common.by import By\n",
    "from selenium.webdriver.support.ui import WebDriverWait\n",
    "from selenium.webdriver.support import expected_conditions as EC\n",
    "from selenium.webdriver.chrome.options import Options"
   ]
  },
  {
   "cell_type": "code",
   "execution_count": 25,
   "metadata": {},
   "outputs": [],
   "source": [
    "chrome_options = Options()\n",
    "chrome_options.add_argument(\"--headless\")\n",
    "\n",
    "browser = webdriver.Chrome('webdriver/chromedriver.exe')"
   ]
  },
  {
   "cell_type": "code",
   "execution_count": 26,
   "metadata": {},
   "outputs": [],
   "source": [
    "# 브라우저 내부 대기\n",
    "browser.implicitly_wait(5)\n",
    "\n",
    "browser.get('https://www.emart24.co.kr/product/eventProduct.asp')"
   ]
  },
  {
   "cell_type": "code",
   "execution_count": 27,
   "metadata": {},
   "outputs": [],
   "source": [
    "# //*[@id=\"tabNew\"]/ul/li[4]/h4/a\n",
    "\n",
    "\n",
    "\n",
    "# 1+1 button XPATH\n",
    "# //*[@id=\"tabNew\"]/ul/li[2]\n",
    "WebDriverWait(browser, 2).until(EC.presence_of_element_located((By.XPATH, '//*[@id=\"tabNew\"]/ul/li[5]/h4/a'))).click()\n",
    "\n",
    "\n",
    "time.sleep(2)"
   ]
  },
  {
   "cell_type": "code",
   "execution_count": null,
   "metadata": {},
   "outputs": [],
   "source": [
    "# soup = BeautifulSoup(browser.page_source, \"html.parser\")\n",
    "# pro_list = soup.select('#regForm > div.section > div.eventProduct > div.tabContArea > ul>li')\n"
   ]
  },
  {
   "cell_type": "code",
   "execution_count": null,
   "metadata": {},
   "outputs": [],
   "source": [
    "# pro_list"
   ]
  },
  {
   "cell_type": "code",
   "execution_count": null,
   "metadata": {},
   "outputs": [],
   "source": [
    "# for v in pro_list:\n",
    "#     url=v.select('p.productImg>img')[0]['src']\n",
    "#     print(url)"
   ]
  },
  {
   "cell_type": "code",
   "execution_count": 28,
   "metadata": {},
   "outputs": [
    {
     "name": "stdout",
     "output_type": "stream",
     "text": [
      "****** Current Page : 1  ******\n",
      "/upload/eventProduct/FOOD/8809152113765.jpg\n",
      "/upload/eventProduct/FOOD/8809574676312.jpg\n",
      "/upload/eventProduct/FOOD/8809574676244.jpg\n",
      "/upload/eventProduct/FOOD/8809421945912.jpg\n",
      "/upload/eventProduct/FOOD/8809421945707.jpg\n",
      "/upload/eventProduct/FOOD/8809069305826.jpg\n",
      "/upload/eventProduct/FOOD/8809069305345.jpg\n",
      "/upload/eventProduct/FOOD/8801123309474.jpg\n",
      "/upload/eventProduct/FOOD/8809574672994.jpg\n",
      "/upload/eventProduct/FOOD/8801114114131.jpg\n",
      "/upload/eventProduct/FOOD/8801492632128.jpg\n",
      "/upload/eventProduct/FOOD/8801492371096.jpg\n",
      "/upload/eventProduct/FOOD/8801492359339.jpg\n",
      "/upload/eventProduct/FOOD/077782024340.jpg\n",
      "/upload/eventProduct/FOOD/077782024173.jpg\n",
      "****** Current Page : 2  ******\n",
      "/upload/eventProduct/FOOD/8809148794862.jpg\n",
      "/upload/eventProduct/FOOD/8801045931623.jpg\n",
      "/upload/eventProduct/FOOD/8801045931630.jpg\n",
      "/upload/eventProduct/FOOD/8801047373568.jpg\n",
      "/upload/eventProduct/FOOD/8801052049762.jpg\n",
      "/upload/eventProduct/FOOD/8809600252909.jpg\n",
      "/upload/eventProduct/FOOD/8809600251858.jpg\n",
      "/upload/eventProduct/FOOD/8809600259120.jpg\n",
      "/upload/eventProduct/FOOD/8801077897409.jpg\n",
      "/upload/eventProduct/FOOD/8804127011589.jpg\n",
      "/upload/eventProduct/FOOD/8809547911761.jpg\n",
      "/upload/eventProduct/FOOD/8809600250998.jpg\n",
      "/upload/eventProduct/FOOD/8809600252541.jpg\n",
      "/upload/eventProduct/FOOD/8801045720210.jpg\n",
      "/upload/eventProduct/FOOD/8801045750217.jpg\n",
      "****** Current Page : 3  ******\n",
      "/upload/eventProduct/FOOD/8801045750224.jpg\n",
      "/upload/eventProduct/FOOD/8801045750170.jpg\n",
      "/upload/eventProduct/FOOD/8801045750163.jpg\n",
      "/upload/eventProduct/DRINK/9002490100070.jpg\n",
      "/upload/eventProduct/SNACK/8809027558158.jpg\n",
      "/upload/eventProduct/FOOD/8801007783178.jpg\n",
      "/upload/eventProduct/FOOD/8801045290874.jpg\n",
      "/upload/eventProduct/FOOD/8809071546552.jpg\n",
      "/upload/eventProduct/FOOD/8809071546606.jpg\n",
      "Crawling Succeed.\n"
     ]
    }
   ],
   "source": [
    "# replace\n",
    "image_list=[]\n",
    "\n",
    "# 현재 페이지\n",
    "cur_page_num = 1\n",
    "\n",
    "# 크롤링 페이지 수\n",
    "target_crawl_num =3\n",
    "\n",
    "while cur_page_num <= target_crawl_num:\n",
    "    soup = BeautifulSoup(browser.page_source, \"html.parser\")\n",
    "    pro_list = soup.select('#regForm > div.section > div.eventProduct > div.tabContArea > ul>li')\n",
    "\n",
    "    # 페이지 번호 출력\n",
    "    print('****** Current Page : {}'.format(cur_page_num), ' ******')\n",
    "   \n",
    "    # 필요 정보 추출(페이지 이동 크롤링)\n",
    "    for v in pro_list:\n",
    "        url=v.select('p.productImg>img')[0]['src']\n",
    "        print(url)\n",
    "        image_list.append(url)\n",
    "        \n",
    "       \n",
    "    cur_page_num += 1\n",
    "    if cur_page_num > target_crawl_num:\n",
    "        print('Crawling Succeed.')\n",
    "        break\n",
    "    else:\n",
    "        WebDriverWait(browser, 2).until(EC.presence_of_element_located((By.CSS_SELECTOR, '#regForm > div.section > div.eventProduct > div.paging > a.next.bgNone > img'))).click()\n",
    "        time.sleep(2)"
   ]
  },
  {
   "cell_type": "code",
   "execution_count": 29,
   "metadata": {},
   "outputs": [
    {
     "name": "stdout",
     "output_type": "stream",
     "text": [
      "folder is created!\n"
     ]
    }
   ],
   "source": [
    "savePath = \"C:/workspace/static/image/emart24_dum/\" \n",
    "\n",
    "try:\n",
    "    if not (os.path.isdir(savePath)):\n",
    "        os.makedirs(os.path.join(savePath))\n",
    "except OSError as e:\n",
    "        print(\"folder creation failed!\")\n",
    "        print(\"folder name : {}\".format(e.filename))\n",
    "        raise RuntimeError('System Exit!')\n",
    "else:\n",
    "    print('folder is created!')"
   ]
  },
  {
   "cell_type": "code",
   "execution_count": 30,
   "metadata": {},
   "outputs": [],
   "source": [
    "for i in range(0,len(image_list)) :\n",
    "    fullFileName = os.path.join(savePath, savePath + str(i) + '.jpg')\n",
    "    req.urlretrieve('https://www.emart24.co.kr/'+ image_list[i], fullFileName)\n"
   ]
  },
  {
   "cell_type": "code",
   "execution_count": null,
   "metadata": {},
   "outputs": [],
   "source": []
  }
 ],
 "metadata": {
  "kernelspec": {
   "display_name": "Python 3",
   "language": "python",
   "name": "python3"
  },
  "language_info": {
   "codemirror_mode": {
    "name": "ipython",
    "version": 3
   },
   "file_extension": ".py",
   "mimetype": "text/x-python",
   "name": "python",
   "nbconvert_exporter": "python",
   "pygments_lexer": "ipython3",
   "version": "3.7.3"
  }
 },
 "nbformat": 4,
 "nbformat_minor": 2
}
