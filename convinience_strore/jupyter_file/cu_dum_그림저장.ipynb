{
 "cells": [
  {
   "cell_type": "code",
   "execution_count": 1,
   "metadata": {},
   "outputs": [],
   "source": [
    "import time\n",
    "# 이미지 다운\n",
    "import urllib.request as req\n",
    "# 이미지 바이트 처리\n",
    "from io import BytesIO\n",
    "\n",
    "# 엑셀 처리 임포트\n",
    "import xlsxwriter\n",
    "# bs4 임포트\n",
    "from bs4 import BeautifulSoup\n",
    "# selenium 임포트\n",
    "from selenium import webdriver\n",
    "from selenium.webdriver.common.keys import Keys\n",
    "from selenium.webdriver.chrome.options import Options\n",
    "from selenium.webdriver.common.by import By\n",
    "from selenium.webdriver.support import expected_conditions as EC\n",
    "from selenium.webdriver.support.ui import WebDriverWait\n",
    "import json\n",
    "import pandas as pd\n",
    "import urllib.request\n",
    "import lxml.html\n",
    "from fake_useragent import UserAgent\n",
    "import os"
   ]
  },
  {
   "cell_type": "code",
   "execution_count": 2,
   "metadata": {},
   "outputs": [],
   "source": [
    "# Hearder 정보 초기화\n",
    "opener = req.build_opener()\n",
    "# User-Agent 정보\n",
    "opener.addheaders = [('User-agent', UserAgent().ie)]\n",
    "# Header 정보 삽입\n",
    "req.install_opener(opener)"
   ]
  },
  {
   "cell_type": "code",
   "execution_count": 3,
   "metadata": {},
   "outputs": [],
   "source": [
    "chrome_options = Options()\n",
    "chrome_options.add_argument(\"--headless\")\n",
    "\n",
    "# webdriver 설정(Chrome, Firefox 등) - Headless 모드\n",
    "#browser = webdriver.Chrome('../webdriver/chromedriver.exe', options=chrome_options)\n",
    "\n",
    "# webdriver 설정(Chrome, Firefox 등) - 일반 모드\n",
    "browser = webdriver.Chrome('webdriver/chromedriver.exe')"
   ]
  },
  {
   "cell_type": "code",
   "execution_count": 4,
   "metadata": {},
   "outputs": [],
   "source": [
    "# 크롬 브라우저 내부 대기\n",
    "browser.implicitly_wait(3)\n",
    "\n",
    "# 브라우저 사이즈\n",
    "browser.set_window_size(1920, 1280)  # maximize_window(), minimize_window()\n",
    "\n",
    "# 페이지 이동\n",
    "browser.get('http://cu.bgfretail.com/event/plus.do?category=event&depth2=1&sf=N')\n",
    "\n",
    "# 1차 페이지 내용\n",
    "# print('Before Page Contents : {}'.format(browser.page_source))"
   ]
  },
  {
   "cell_type": "code",
   "execution_count": 5,
   "metadata": {},
   "outputs": [],
   "source": [
    "time.sleep(2)\n",
    "# 1+1 행사 클릭\n",
    "WebDriverWait(browser, 4).until(\n",
    "    EC.presence_of_element_located((By.XPATH, '//*[@id=\"gnb\"]/div/div[3]/div/div/div[1]/span[3]/a/img'))).click()\n",
    "time.sleep(4)"
   ]
  },
  {
   "cell_type": "code",
   "execution_count": 44,
   "metadata": {},
   "outputs": [],
   "source": [
    "# pro_list = soup.select('#listtable > div > div>div>div>div')\n",
    "# #listtable > div > div\n",
    "soup = BeautifulSoup(browser.page_source, \"html.parser\")\n",
    "\n",
    "pro_list = soup.select('#listtable > div > div>div>div>div')"
   ]
  },
  {
   "cell_type": "code",
   "execution_count": 45,
   "metadata": {},
   "outputs": [
    {
     "data": {
      "text/plain": [
       "[<div class=\"photo\"><a href=\"javascript:view(5592);\"><img alt=\"178BDCFD0D3F47379A7D25FAE59C3DC3.jpg\" height=\"180\" src=\"http://cdn2.bgfretail.com/bgfbrand/files/product/178BDCFD0D3F47379A7D25FAE59C3DC3.jpg\" width=\"180\"/></a></div>,\n",
       " <div class=\"photo\"><a href=\"javascript:view(8189);\"><img alt=\"8809140578552.jpg\" height=\"130\" src=\"http://bgf-cu.xcache.kinxcdn.com/product/8809140578552.jpg\" width=\"130\"/></a></div>,\n",
       " <div class=\"photo\"><a href=\"javascript:view(5593);\"><img alt=\"B89EF45CEFDB4972B61E7C9933943D57.jpg\" height=\"180\" src=\"http://cdn2.bgfretail.com/bgfbrand/files/product/B89EF45CEFDB4972B61E7C9933943D57.jpg\" width=\"180\"/></a></div>,\n",
       " <div class=\"photo\"><a href=\"javascript:view(8190);\"><img alt=\"8809140578545.jpg\" height=\"130\" src=\"http://bgf-cu.xcache.kinxcdn.com/product/8809140578545.jpg\" width=\"130\"/></a></div>,\n",
       " <div class=\"photo\"><a href=\"javascript:view(7787);\"><img alt=\"8801077897409.jpg\" height=\"180\" src=\"http://bgf-cu.xcache.kinxcdn.com/product/8801077897409.jpg\" width=\"180\"/></a></div>,\n",
       " <div class=\"photo\"><a href=\"javascript:view(1060);\"><img alt=\"0FCDFA48BFDB4D029C27FFC8E5AF3767.jpg\" height=\"130\" src=\"http://cdn2.bgfretail.com/bgfbrand/files/product/0FCDFA48BFDB4D029C27FFC8E5AF3767.jpg\" width=\"130\"/></a></div>,\n",
       " <div class=\"photo\"><a href=\"javascript:view(7787);\"><img alt=\"8801077897409.jpg\" height=\"180\" src=\"http://bgf-cu.xcache.kinxcdn.com/product/8801077897409.jpg\" width=\"180\"/></a></div>,\n",
       " <div class=\"photo\"><a href=\"javascript:view(1080);\"><img alt=\"8801104250627.jpg\" height=\"130\" src=\"http://bgf-cu.xcache.kinxcdn.com/product/8801104250627.jpg\" width=\"130\"/></a></div>,\n",
       " <div class=\"photo\"><a href=\"javascript:view(8495);\"><img alt=\"8801085881049.jpg\" height=\"180\" src=\"http://bgf-cu.xcache.kinxcdn.com/product/8801085881049.jpg\" width=\"180\"/></a></div>,\n",
       " <div class=\"photo\"><a href=\"javascript:view(7221);\"><img alt=\"8809197840091.jpg\" height=\"130\" src=\"http://bgf-cu.xcache.kinxcdn.com/product/8809197840091.jpg\" width=\"130\"/></a></div>]"
      ]
     },
     "execution_count": 45,
     "metadata": {},
     "output_type": "execute_result"
    }
   ],
   "source": [
    "pro_list"
   ]
  },
  {
   "cell_type": "code",
   "execution_count": 49,
   "metadata": {},
   "outputs": [],
   "source": [
    "image_list_raw=[]\n",
    "\n",
    "for v in pro_list:\n",
    "        a=v.select('div.photo>a>img')[0]['src']\n",
    "        image_list_raw.append(a)\n",
    "                \n",
    "        \n",
    "        "
   ]
  },
  {
   "cell_type": "code",
   "execution_count": 50,
   "metadata": {},
   "outputs": [],
   "source": [
    "# 첫번째가 상품명\n",
    "# 두번째가 증정상품명\n",
    "\n",
    "image_list_dum=[]\n",
    "image_list_prod=[]\n",
    "\n",
    "for i in range(len(image_list_raw)):\n",
    "    if i%2==0:\n",
    "        image_list_prod.append(image_list_raw[i])\n",
    "    else:\n",
    "        image_list_dum.append(image_list_raw[i])\n",
    "        \n"
   ]
  },
  {
   "cell_type": "code",
   "execution_count": 51,
   "metadata": {},
   "outputs": [
    {
     "data": {
      "text/plain": [
       "['http://bgf-cu.xcache.kinxcdn.com/product/8809140578552.jpg',\n",
       " 'http://bgf-cu.xcache.kinxcdn.com/product/8809140578545.jpg',\n",
       " 'http://cdn2.bgfretail.com/bgfbrand/files/product/0FCDFA48BFDB4D029C27FFC8E5AF3767.jpg',\n",
       " 'http://bgf-cu.xcache.kinxcdn.com/product/8801104250627.jpg',\n",
       " 'http://bgf-cu.xcache.kinxcdn.com/product/8809197840091.jpg']"
      ]
     },
     "execution_count": 51,
     "metadata": {},
     "output_type": "execute_result"
    }
   ],
   "source": [
    "image_list_dum\n"
   ]
  },
  {
   "cell_type": "code",
   "execution_count": 52,
   "metadata": {},
   "outputs": [
    {
     "data": {
      "text/plain": [
       "['http://cdn2.bgfretail.com/bgfbrand/files/product/178BDCFD0D3F47379A7D25FAE59C3DC3.jpg',\n",
       " 'http://cdn2.bgfretail.com/bgfbrand/files/product/B89EF45CEFDB4972B61E7C9933943D57.jpg',\n",
       " 'http://bgf-cu.xcache.kinxcdn.com/product/8801077897409.jpg',\n",
       " 'http://bgf-cu.xcache.kinxcdn.com/product/8801077897409.jpg',\n",
       " 'http://bgf-cu.xcache.kinxcdn.com/product/8801085881049.jpg']"
      ]
     },
     "execution_count": 52,
     "metadata": {},
     "output_type": "execute_result"
    }
   ],
   "source": [
    "image_list_prod"
   ]
  },
  {
   "cell_type": "code",
   "execution_count": 54,
   "metadata": {},
   "outputs": [
    {
     "name": "stdout",
     "output_type": "stream",
     "text": [
      "folder is created!\n"
     ]
    }
   ],
   "source": [
    "# 이미지 저장 경로\n",
    "savePath = \"C:/Users/전산실/imagedown/cu_dum/상품/\"  # C:\\\\imagedown\\\\\n",
    "\n",
    "try:\n",
    "    if not (os.path.isdir(savePath)):\n",
    "        os.makedirs(os.path.join(savePath))\n",
    "except OSError as e:\n",
    "        print(\"folder creation failed!\")\n",
    "        print(\"folder name : {}\".format(e.filename))\n",
    "        raise RuntimeError('System Exit!')\n",
    "else:\n",
    "    print('folder is created!')"
   ]
  },
  {
   "cell_type": "code",
   "execution_count": 55,
   "metadata": {},
   "outputs": [],
   "source": [
    "for i in range(0,len(image_list_prod)) :\n",
    "    fullFileName = os.path.join(savePath, savePath + str(i) + '.jpg')\n",
    "    req.urlretrieve( image_list_prod[i], fullFileName)\n"
   ]
  },
  {
   "cell_type": "code",
   "execution_count": 56,
   "metadata": {},
   "outputs": [
    {
     "name": "stdout",
     "output_type": "stream",
     "text": [
      "folder is created!\n"
     ]
    }
   ],
   "source": [
    "# 이미지 저장 경로\n",
    "savePath = \"C:/Users/전산실/imagedown/cu_dum/증정상품/\"  # C:\\\\imagedown\\\\\n",
    "\n",
    "try:\n",
    "    if not (os.path.isdir(savePath)):\n",
    "        os.makedirs(os.path.join(savePath))\n",
    "except OSError as e:\n",
    "        print(\"folder creation failed!\")\n",
    "        print(\"folder name : {}\".format(e.filename))\n",
    "        raise RuntimeError('System Exit!')\n",
    "else:\n",
    "    print('folder is created!')"
   ]
  },
  {
   "cell_type": "code",
   "execution_count": 57,
   "metadata": {},
   "outputs": [],
   "source": [
    "\n",
    "\n",
    "for i in range(0,len(image_list_dum)) :\n",
    "    fullFileName = os.path.join(savePath, savePath + str(i) + '.jpg')\n",
    "    req.urlretrieve( image_list_dum[i], fullFileName)"
   ]
  },
  {
   "cell_type": "code",
   "execution_count": null,
   "metadata": {},
   "outputs": [],
   "source": []
  }
 ],
 "metadata": {
  "kernelspec": {
   "display_name": "Python 3",
   "language": "python",
   "name": "python3"
  },
  "language_info": {
   "codemirror_mode": {
    "name": "ipython",
    "version": 3
   },
   "file_extension": ".py",
   "mimetype": "text/x-python",
   "name": "python",
   "nbconvert_exporter": "python",
   "pygments_lexer": "ipython3",
   "version": "3.7.3"
  }
 },
 "nbformat": 4,
 "nbformat_minor": 2
}
