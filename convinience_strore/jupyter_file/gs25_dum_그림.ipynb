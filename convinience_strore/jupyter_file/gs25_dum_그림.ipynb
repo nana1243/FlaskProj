{
 "cells": [
  {
   "cell_type": "code",
   "execution_count": 1,
   "metadata": {},
   "outputs": [],
   "source": [
    "import time\n",
    "# 이미지 다운\n",
    "import urllib.request as req\n",
    "# 이미지 바이트 처리\n",
    "from io import BytesIO\n",
    "\n",
    "# 엑셀 처리 임포트\n",
    "import xlsxwriter\n",
    "# bs4 임포트\n",
    "from bs4 import BeautifulSoup\n",
    "# selenium 임포트\n",
    "from selenium import webdriver\n",
    "from selenium.webdriver.chrome.options import Options\n",
    "from selenium.webdriver.common.by import By\n",
    "from selenium.webdriver.support import expected_conditions as EC\n",
    "from selenium.webdriver.support.ui import WebDriverWait\n",
    "\n"
   ]
  },
  {
   "cell_type": "code",
   "execution_count": 2,
   "metadata": {},
   "outputs": [],
   "source": [
    "chrome_options = Options()\n",
    "chrome_options.add_argument(\"--headless\")\n",
    "\n",
    "# webdriver 설정(Chrome, Firefox 등) - Headless 모드\n",
    "# browser = webdriver.Chrome('../webdriver/chromedriver.exe', options=chrome_options)\n",
    "\n",
    "# webdriver 설정(Chrome, Firefox 등) - 일반 모드\n",
    "browser = webdriver.Chrome('webdriver/chromedriver.exe')"
   ]
  },
  {
   "cell_type": "code",
   "execution_count": 3,
   "metadata": {},
   "outputs": [],
   "source": [
    "#크롬 브라우저 내부 대기\n",
    "browser.implicitly_wait(2)\n",
    "\n",
    "# 브라우저 사이즈\n",
    "#browser.set_window_size(1920, 1280)  # maximize_window(), minimize_window()\n",
    "\n",
    "# 페이지 이동\n",
    "browser.get('https://gs25.gsretail.com/gscvs/ko/products/event-goods')\n",
    "\n",
    "# 1차 페이지 내용\n",
    "# print('Before Page Contents : {}'.format(browser.page_source))"
   ]
  },
  {
   "cell_type": "code",
   "execution_count": 4,
   "metadata": {},
   "outputs": [],
   "source": [
    "# 2+1 button XPATH\n",
    "# //*[@id=\"TWO_TO_ONE\"]\n",
    "WebDriverWait(browser, 2).until(EC.presence_of_element_located((By.XPATH, '//*[@id=\"GIFT\"]'))).click()\n",
    "\n",
    "\n",
    "\n",
    "time.sleep(2)"
   ]
  },
  {
   "cell_type": "code",
   "execution_count": 26,
   "metadata": {},
   "outputs": [
    {
     "name": "stdout",
     "output_type": "stream",
     "text": [
      "[<li><div class=\"prod_box\"><p class=\"img\"><img alt=\"지정농장1등급란(대20입)\" src=\"http://gs25appimg.gsretail.com/imgsvr/item/GD_2345001693492_001.JPG\"/></p><p class=\"tit\">지정농장1등급란(대20입)</p><p class=\"price\"><span class=\"cost\">5,900<span>원</span></span></p><div class=\"flag_box GIFT\"><p class=\"flg01\" style='background: url(\"/_ui/desktop/common/images/gscvs/products/flag_bg.png\") 0px -55px no-repeat;'><span style=\"font-size: small;\">덤증정</span></p></div><div class=\"dum_box\" style=\"display: none;\"><div class=\"arr_lt\"></div><div class=\"dum_prd\"><p class=\"tit\">덤증정 상품</p><p class=\"img\"><img alt=\"지정농장1등급란(10입)\" src=\"http://gs25appimg.gsretail.com/imgsvr/item/GD_2345001237986_002.jpg\"/></p></div><div class=\"dum_txt\"><p class=\"name\"><br/>지정농장1등급란(10입)</p><p class=\"price\"><span class=\"cost\">4,200<span>원</span></span></p></div></div></div></li>, <li><div class=\"prod_box\"><p class=\"img\"><img alt=\"추억의한입삼겹살(450G/팩)\" src=\"http://gs25appimg.gsretail.com/imgsvr/item/GD_23464278_002.jpg\"/></p><p class=\"tit\">추억의한입삼겹살(450G/팩)</p><p class=\"price\"><span class=\"cost\">9,900<span>원</span></span></p><div class=\"flag_box GIFT\"><p class=\"flg01\" style='background: url(\"/_ui/desktop/common/images/gscvs/products/flag_bg.png\") 0px -55px no-repeat;'><span style=\"font-size: small;\">덤증정</span></p></div><div class=\"dum_box\" style=\"display: none;\"><div class=\"arr_lt\"></div><div class=\"dum_prd\"><p class=\"tit\">덤증정 상품</p></div><div class=\"dum_txt\"><p class=\"name\"></p><p class=\"price\"></p></div></div></div></li>, <li><div class=\"prod_box\"><p class=\"img\"><img alt=\"한끼삼겹살180G(냉동)\" src=\"http://gs25appimg.gsretail.com/imgsvr/item/GD_2800024511609_002.jpg\"/></p><p class=\"tit\">한끼삼겹살180G(냉동)</p><p class=\"price\"><span class=\"cost\">5,500<span>원</span></span></p><div class=\"flag_box GIFT\"><p class=\"flg01\" style='background: url(\"/_ui/desktop/common/images/gscvs/products/flag_bg.png\") 0px -55px no-repeat;'><span style=\"font-size: small;\">덤증정</span></p></div><div class=\"dum_box\" style=\"display: none;\"><div class=\"arr_lt\"></div><div class=\"dum_prd\"><p class=\"tit\">덤증정 상품</p></div><div class=\"dum_txt\"><p class=\"name\"></p><p class=\"price\"></p></div></div></div></li>, <li class=\"mr0\"><div class=\"prod_box\"><p class=\"img\"><img alt=\"한끼항정살180G(냉동)\" src=\"http://gs25appimg.gsretail.com/imgsvr/item/GD_2345001702545_001.jpg\"/></p><p class=\"tit\">한끼항정살180G(냉동)</p><p class=\"price\"><span class=\"cost\">5,500<span>원</span></span></p><div class=\"flag_box GIFT\"><p class=\"flg01\" style='background: url(\"/_ui/desktop/common/images/gscvs/products/flag_bg.png\") 0px -55px no-repeat;'><span style=\"font-size: small;\">덤증정</span></p></div><div class=\"dum_box\" style=\"display: none;\"><div class=\"arr_lt\"></div><div class=\"dum_prd\"><p class=\"tit\">덤증정 상품</p></div><div class=\"dum_txt\"><p class=\"name\"></p><p class=\"price\"></p></div></div></div></li>, <li><div class=\"prod_box\"><p class=\"img\"><img alt=\"영화관)즉석구이오징어60G\" src=\"http://gs25appimg.gsretail.com/imgsvr/item/GD_8809251670374_002.jpg\"/></p><p class=\"tit\">영화관)즉석구이오징어60G</p><p class=\"price\"><span class=\"cost\">4,100<span>원</span></span></p><div class=\"flag_box GIFT\"><p class=\"flg01\" style='background: url(\"/_ui/desktop/common/images/gscvs/products/flag_bg.png\") 0px -55px no-repeat;'><span style=\"font-size: small;\">덤증정</span></p></div><div class=\"dum_box\" style=\"display: none;\"><div class=\"arr_lt\"></div><div class=\"dum_prd\"><p class=\"tit\">덤증정 상품</p><p class=\"img\"><img alt=\"농심)웰치스포도탄산355ML\" src=\"http://gs25appimg.gsretail.com/imgsvr/item/GD_8801043450690.jpg\"/></p></div><div class=\"dum_txt\"><p class=\"name\"><br/>농심)웰치스포도탄산355ML</p><p class=\"price\"><span class=\"cost\">1,000<span>원</span></span></p></div></div></div></li>, <li><div class=\"prod_box\"><p class=\"img\"><img alt=\"한마리)자린고비\" src=\"http://gs25appimg.gsretail.com/imgsvr/item/GD_8809442460005_001.jpg\"/></p><p class=\"tit\">한마리)자린고비</p><p class=\"price\"><span class=\"cost\">9,900<span>원</span></span></p><div class=\"flag_box GIFT\"><p class=\"flg01\" style='background: url(\"/_ui/desktop/common/images/gscvs/products/flag_bg.png\") 0px -55px no-repeat;'><span style=\"font-size: small;\">덤증정</span></p></div><div class=\"dum_box\" style=\"display: none;\"><div class=\"arr_lt\"></div><div class=\"dum_prd\"><p class=\"tit\">덤증정 상품</p><p class=\"img\"><img alt=\"동원)보성녹차PET350ML\" src=\"http://gs25appimg.gsretail.com/imgsvr/item/GD_8801047283447.jpg\"/></p></div><div class=\"dum_txt\"><p class=\"name\"><br/>동원)보성녹차PET350ML</p><p class=\"price\"><span class=\"cost\">1,000<span>원</span></span></p></div></div></div></li>, <li><div class=\"prod_box\"><p class=\"img\"><img alt=\"오늘참치못회120G\" src=\"http://gs25appimg.gsretail.com/imgsvr/item/GD_8809673800007_002.jpg\"/></p><p class=\"tit\">오늘참치못회120G</p><p class=\"price\"><span class=\"cost\">6,900<span>원</span></span></p><div class=\"flag_box GIFT\"><p class=\"flg01\" style='background: url(\"/_ui/desktop/common/images/gscvs/products/flag_bg.png\") 0px -55px no-repeat;'><span style=\"font-size: small;\">덤증정</span></p></div><div class=\"dum_box\" style=\"display: none;\"><div class=\"arr_lt\"></div><div class=\"dum_prd\"><p class=\"tit\">덤증정 상품</p><p class=\"img\"><img alt=\"CJ)토종김(참기름)5G\" src=\"http://gs25appimg.gsretail.com/imgsvr/item/GD_8801007254531_001.jpg\"/></p></div><div class=\"dum_txt\"><p class=\"name\"><br/>CJ)토종김(참기름)5G</p><p class=\"price\"><span class=\"cost\">600<span>원</span></span></p></div></div></div></li>, <li class=\"mr0\"><div class=\"prod_box\"><p class=\"img\"><img alt=\"상록수쌀10KG(18년)\" src=\"http://gs25appimg.gsretail.com/imgsvr/item/GD_8808309000156_001.jpg\"/></p><p class=\"tit\">상록수쌀10KG(18년)</p><p class=\"price\"><span class=\"cost\">32,000<span>원</span></span></p><div class=\"flag_box GIFT\"><p class=\"flg01\" style='background: url(\"/_ui/desktop/common/images/gscvs/products/flag_bg.png\") 0px -55px no-repeat;'><span style=\"font-size: small;\">덤증정</span></p></div><div class=\"dum_box\" style=\"display: none;\"><div class=\"arr_lt\"></div><div class=\"dum_prd\"><p class=\"tit\">덤증정 상품</p><p class=\"img\"><img alt=\"오뚜기)진라면매운맛\" src=\"http://gs25appimg.gsretail.com/imgsvr/item/GD_8801045520124.jpg\"/></p></div><div class=\"dum_txt\"><p class=\"name\"><br/>오뚜기)진라면매운맛</p><p class=\"price\"><span class=\"cost\">720<span>원</span></span></p></div></div></div></li>]\n"
     ]
    }
   ],
   "source": [
    "soup = BeautifulSoup(browser.page_source, \"html.parser\")\n",
    "pro_list = soup.select('div.cnt > div.cnt_section.mt50 > div > div > div:nth-child(3) > ul>li')\n",
    "\n",
    "print(pro_list)"
   ]
  },
  {
   "cell_type": "code",
   "execution_count": 111,
   "metadata": {},
   "outputs": [],
   "source": [
    "image_list_prod=[]\n",
    "image_list_dum=[]\n",
    "\n",
    "for v in pro_list:\n",
    "        a=v.select('div.prod_box>p>img')[0]['src']\n",
    "        image_list_prod.append(a)\n",
    "        if len(v.select('div.dum_prd>p>img')) > 0:\n",
    "            a=v.select('div.dum_prd>p>img')[0]['src']\n",
    "            image_list_dum.append(a)\n",
    "        else:\n",
    "            a=\"\"\n",
    "            image_list_dum.append(a)\n",
    "    \n"
   ]
  },
  {
   "cell_type": "code",
   "execution_count": 113,
   "metadata": {},
   "outputs": [
    {
     "data": {
      "text/plain": [
       "['http://gs25appimg.gsretail.com/imgsvr/item/GD_2345001693492_001.JPG',\n",
       " 'http://gs25appimg.gsretail.com/imgsvr/item/GD_23464278_002.jpg',\n",
       " 'http://gs25appimg.gsretail.com/imgsvr/item/GD_2800024511609_002.jpg',\n",
       " 'http://gs25appimg.gsretail.com/imgsvr/item/GD_2345001702545_001.jpg',\n",
       " 'http://gs25appimg.gsretail.com/imgsvr/item/GD_8809251670374_002.jpg',\n",
       " 'http://gs25appimg.gsretail.com/imgsvr/item/GD_8809442460005_001.jpg',\n",
       " 'http://gs25appimg.gsretail.com/imgsvr/item/GD_8809673800007_002.jpg',\n",
       " 'http://gs25appimg.gsretail.com/imgsvr/item/GD_8808309000156_001.jpg']"
      ]
     },
     "execution_count": 113,
     "metadata": {},
     "output_type": "execute_result"
    }
   ],
   "source": [
    "image_list_prod\n"
   ]
  },
  {
   "cell_type": "code",
   "execution_count": 114,
   "metadata": {},
   "outputs": [
    {
     "data": {
      "text/plain": [
       "['http://gs25appimg.gsretail.com/imgsvr/item/GD_2345001237986_002.jpg',\n",
       " '',\n",
       " '',\n",
       " '',\n",
       " 'http://gs25appimg.gsretail.com/imgsvr/item/GD_8801043450690.jpg',\n",
       " 'http://gs25appimg.gsretail.com/imgsvr/item/GD_8801047283447.jpg',\n",
       " 'http://gs25appimg.gsretail.com/imgsvr/item/GD_8801007254531_001.jpg',\n",
       " 'http://gs25appimg.gsretail.com/imgsvr/item/GD_8801045520124.jpg']"
      ]
     },
     "execution_count": 114,
     "metadata": {},
     "output_type": "execute_result"
    }
   ],
   "source": [
    "image_list_dum"
   ]
  },
  {
   "cell_type": "code",
   "execution_count": 116,
   "metadata": {},
   "outputs": [],
   "source": [
    "import os\n",
    "import urllib.parse as rep\n",
    "import urllib.request as req\n",
    "from fake_useragent import UserAgent\n",
    "from bs4 import BeautifulSoup"
   ]
  },
  {
   "cell_type": "code",
   "execution_count": 117,
   "metadata": {},
   "outputs": [
    {
     "name": "stdout",
     "output_type": "stream",
     "text": [
      "folder is created!\n"
     ]
    }
   ],
   "source": [
    "# 이미지 저장 경로\n",
    "savePath = \"C:/Users/전산실/imagedown/gs25_dum/\"  # C:\\\\imagedown\\\\\n",
    "\n",
    "try:\n",
    "    if not (os.path.isdir(savePath)):\n",
    "        os.makedirs(os.path.join(savePath))\n",
    "except OSError as e:\n",
    "        print(\"folder creation failed!\")\n",
    "        print(\"folder name : {}\".format(e.filename))\n",
    "        raise RuntimeError('System Exit!')\n",
    "else:\n",
    "    print('folder is created!')"
   ]
  },
  {
   "cell_type": "code",
   "execution_count": 118,
   "metadata": {},
   "outputs": [],
   "source": [
    "for i in range(0,len(image_list_prod)) :\n",
    "    fullFileName = os.path.join(savePath, savePath + str(i) + '.jpg')\n",
    "    req.urlretrieve( image_list_prod[i], fullFileName)\n"
   ]
  },
  {
   "cell_type": "code",
   "execution_count": null,
   "metadata": {},
   "outputs": [],
   "source": [
    "# 이미지 저장 경로\n",
    "savePath = \"C:/Users/전산실/imagedown/gs25_dum/증정상품명/\"  # C:\\\\imagedown\\\\\n",
    "\n",
    "try:\n",
    "    if not (os.path.isdir(savePath)):\n",
    "        os.makedirs(os.path.join(savePath))\n",
    "except OSError as e:\n",
    "        print(\"folder creation failed!\")\n",
    "        print(\"folder name : {}\".format(e.filename))\n",
    "        raise RuntimeError('System Exit!')\n",
    "else:\n",
    "    print('folder is created!')"
   ]
  },
  {
   "cell_type": "code",
   "execution_count": 122,
   "metadata": {},
   "outputs": [],
   "source": [
    "for i in range(0,len(image_list_dum)) :\n",
    "    if image_list_dum[i]==\"\":\n",
    "        pass\n",
    "    else:\n",
    "        fullFileName = os.path.join(savePath, savePath + str(i) + '.jpg')\n",
    "        req.urlretrieve( image_list_dum[i], fullFileName)\n"
   ]
  },
  {
   "cell_type": "code",
   "execution_count": null,
   "metadata": {},
   "outputs": [],
   "source": []
  }
 ],
 "metadata": {
  "kernelspec": {
   "display_name": "Python 3",
   "language": "python",
   "name": "python3"
  },
  "language_info": {
   "codemirror_mode": {
    "name": "ipython",
    "version": 3
   },
   "file_extension": ".py",
   "mimetype": "text/x-python",
   "name": "python",
   "nbconvert_exporter": "python",
   "pygments_lexer": "ipython3",
   "version": "3.7.3"
  }
 },
 "nbformat": 4,
 "nbformat_minor": 2
}
